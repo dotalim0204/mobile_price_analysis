{
 "cells": [
  {
   "cell_type": "code",
   "execution_count": 1,
   "id": "00f3cf18",
   "metadata": {},
   "outputs": [],
   "source": [
    "import pandas as pd\n",
    "mobile = pd.read_csv(\"mobile_data_new.csv\")"
   ]
  },
  {
   "cell_type": "markdown",
   "id": "1774c273",
   "metadata": {},
   "source": [
    "Remove the **id** column"
   ]
  },
  {
   "cell_type": "code",
   "execution_count": 2,
   "id": "4f93f70d",
   "metadata": {},
   "outputs": [],
   "source": [
    "mobile.drop(columns=mobile.columns[0], axis=1, inplace=True)"
   ]
  },
  {
   "cell_type": "markdown",
   "id": "03d8d964",
   "metadata": {},
   "source": [
    "Replacing null value by 0"
   ]
  },
  {
   "cell_type": "code",
   "execution_count": 3,
   "id": "e365b222",
   "metadata": {},
   "outputs": [],
   "source": [
    "nullList = ['f_cam_2', 'p_cam_2' , 'p_cam_3' , 'p_cam_4']\n",
    "for var in nullList:\n",
    "    mobile[var].fillna(value=0,inplace=True)"
   ]
  },
  {
   "cell_type": "markdown",
   "id": "f41eee08",
   "metadata": {},
   "source": [
    "As all mobile phones in the dataset support **dual_sim**, we decided to remove this column"
   ]
  },
  {
   "cell_type": "code",
   "execution_count": 4,
   "id": "1ad18293",
   "metadata": {},
   "outputs": [],
   "source": [
    "mobile.drop([\"dual_sim\"], axis=1, inplace=True)"
   ]
  },
  {
   "cell_type": "markdown",
   "id": "4dfd5a15",
   "metadata": {},
   "source": [
    "\n",
    "As there are total ***125*** types of model, while there are total ***458*** rows in the dataset, model_name isn't really useful when predicting the **mobile_price**, as it might result in a high variance model, so we decided to remove it as well"
   ]
  },
  {
   "cell_type": "code",
   "execution_count": 5,
   "id": "b0a4f48a",
   "metadata": {},
   "outputs": [],
   "source": [
    "mobile.drop([\"model_name\"], axis=1, inplace=True)"
   ]
  },
  {
   "cell_type": "markdown",
   "id": "dcf28c5f",
   "metadata": {},
   "source": [
    "During the EDA process, we found out that some mobile phones have unreasonably high depth (thickness). We are buying a phone, not a brick. Perhaps this is due to some errors occur during the extraction of data from the website. We decided to remove those data."
   ]
  },
  {
   "cell_type": "code",
   "execution_count": 6,
   "id": "3ae3106c",
   "metadata": {},
   "outputs": [],
   "source": [
    "mobile = mobile[mobile['mob_depth'] <= 25]"
   ]
  },
  {
   "cell_type": "code",
   "execution_count": 7,
   "id": "4b1a8e8c",
   "metadata": {},
   "outputs": [
    {
     "name": "stdout",
     "output_type": "stream",
     "text": [
      "<class 'pandas.core.frame.DataFrame'>\n",
      "Int64Index: 444 entries, 0 to 457\n",
      "Data columns (total 24 columns):\n",
      " #   Column             Non-Null Count  Dtype  \n",
      "---  ------             --------------  -----  \n",
      " 0   mobile_brand       444 non-null    object \n",
      " 1   mobile_color       444 non-null    object \n",
      " 2   disp_size          444 non-null    float64\n",
      " 3   os                 444 non-null    object \n",
      " 4   num_cores          444 non-null    object \n",
      " 5   mp_speed           444 non-null    float64\n",
      " 6   int_memory         444 non-null    int64  \n",
      " 7   ram                444 non-null    int64  \n",
      " 8   network_top        444 non-null    object \n",
      " 9   bluetooth          444 non-null    object \n",
      " 10  battery_power      444 non-null    int64  \n",
      " 11  mob_width          444 non-null    float64\n",
      " 12  mob_height         444 non-null    float64\n",
      " 13  mob_depth          444 non-null    float64\n",
      " 14  mob_weight         444 non-null    float64\n",
      " 15  resolution_width   444 non-null    int64  \n",
      " 16  resolution_height  444 non-null    int64  \n",
      " 17  f_cam_1            444 non-null    int64  \n",
      " 18  f_cam_2            444 non-null    float64\n",
      " 19  p_cam_1            444 non-null    int64  \n",
      " 20  p_cam_2            444 non-null    float64\n",
      " 21  p_cam_3            444 non-null    float64\n",
      " 22  p_cam_4            444 non-null    float64\n",
      " 23  mobile_price       444 non-null    int64  \n",
      "dtypes: float64(10), int64(8), object(6)\n",
      "memory usage: 86.7+ KB\n"
     ]
    }
   ],
   "source": [
    "mobile.info()"
   ]
  },
  {
   "cell_type": "markdown",
   "id": "85b8192f",
   "metadata": {},
   "source": [
    "***\n",
    "Before we fit this dataset into models, such as linear regression/random forest regression, categorical data must be encoded into numerical first. We use **one-hot encoding** to achieve this outcomem"
   ]
  },
  {
   "cell_type": "code",
   "execution_count": 8,
   "id": "7c82cfdb",
   "metadata": {},
   "outputs": [],
   "source": [
    "from sklearn.preprocessing import OneHotEncoder\n",
    "ohe = OneHotEncoder()"
   ]
  },
  {
   "cell_type": "code",
   "execution_count": 9,
   "id": "7422d579",
   "metadata": {},
   "outputs": [],
   "source": [
    "cat = mobile.select_dtypes(include=object).columns"
   ]
  },
  {
   "cell_type": "code",
   "execution_count": 10,
   "id": "f02e8bc1",
   "metadata": {},
   "outputs": [],
   "source": [
    "mobile = pd.get_dummies(mobile, columns=cat, drop_first=True)  "
   ]
  },
  {
   "cell_type": "markdown",
   "id": "d13337f5",
   "metadata": {},
   "source": [
    "Move ***mobile_price*** to back."
   ]
  },
  {
   "cell_type": "code",
   "execution_count": 11,
   "id": "0ab69e5d",
   "metadata": {},
   "outputs": [],
   "source": [
    "temp = mobile.pop(\"mobile_price\")\n",
    "mobile[\"mobile_price\"] = temp"
   ]
  },
  {
   "cell_type": "code",
   "execution_count": 12,
   "id": "b480806c",
   "metadata": {},
   "outputs": [
    {
     "name": "stdout",
     "output_type": "stream",
     "text": [
      "<class 'pandas.core.frame.DataFrame'>\n",
      "Int64Index: 444 entries, 0 to 457\n",
      "Data columns (total 58 columns):\n",
      " #   Column                        Non-Null Count  Dtype  \n",
      "---  ------                        --------------  -----  \n",
      " 0   disp_size                     444 non-null    float64\n",
      " 1   mp_speed                      444 non-null    float64\n",
      " 2   int_memory                    444 non-null    int64  \n",
      " 3   ram                           444 non-null    int64  \n",
      " 4   battery_power                 444 non-null    int64  \n",
      " 5   mob_width                     444 non-null    float64\n",
      " 6   mob_height                    444 non-null    float64\n",
      " 7   mob_depth                     444 non-null    float64\n",
      " 8   mob_weight                    444 non-null    float64\n",
      " 9   resolution_width              444 non-null    int64  \n",
      " 10  resolution_height             444 non-null    int64  \n",
      " 11  f_cam_1                       444 non-null    int64  \n",
      " 12  f_cam_2                       444 non-null    float64\n",
      " 13  p_cam_1                       444 non-null    int64  \n",
      " 14  p_cam_2                       444 non-null    float64\n",
      " 15  p_cam_3                       444 non-null    float64\n",
      " 16  p_cam_4                       444 non-null    float64\n",
      " 17  mobile_brand_Mi               444 non-null    uint8  \n",
      " 18  mobile_brand_OPPO             444 non-null    uint8  \n",
      " 19  mobile_brand_POCO             444 non-null    uint8  \n",
      " 20  mobile_brand_Realme           444 non-null    uint8  \n",
      " 21  mobile_brand_Redmi            444 non-null    uint8  \n",
      " 22  mobile_brand_Samsung          444 non-null    uint8  \n",
      " 23  mobile_brand_Vivo             444 non-null    uint8  \n",
      " 24  mobile_color_Blue             444 non-null    uint8  \n",
      " 25  mobile_color_Brown            444 non-null    uint8  \n",
      " 26  mobile_color_Champagne        444 non-null    uint8  \n",
      " 27  mobile_color_Concrete         444 non-null    uint8  \n",
      " 28  mobile_color_Cyan             444 non-null    uint8  \n",
      " 29  mobile_color_Gold             444 non-null    uint8  \n",
      " 30  mobile_color_Green            444 non-null    uint8  \n",
      " 31  mobile_color_Grey             444 non-null    uint8  \n",
      " 32  mobile_color_Mint             444 non-null    uint8  \n",
      " 33  mobile_color_Orange           444 non-null    uint8  \n",
      " 34  mobile_color_Purple           444 non-null    uint8  \n",
      " 35  mobile_color_Radiant Mist     444 non-null    uint8  \n",
      " 36  mobile_color_Red              444 non-null    uint8  \n",
      " 37  mobile_color_Ruby             444 non-null    uint8  \n",
      " 38  mobile_color_Sapphire         444 non-null    uint8  \n",
      " 39  mobile_color_Silver           444 non-null    uint8  \n",
      " 40  mobile_color_Violet           444 non-null    uint8  \n",
      " 41  mobile_color_White            444 non-null    uint8  \n",
      " 42  os_Android Lollipop 5.1       444 non-null    uint8  \n",
      " 43  os_Android Lollipop 5.4.1     444 non-null    uint8  \n",
      " 44  os_Android Marshmallow 6      444 non-null    uint8  \n",
      " 45  os_Android Marshmallow 6.0.1  444 non-null    uint8  \n",
      " 46  os_Android Nougat 7           444 non-null    uint8  \n",
      " 47  os_Android Nougat 7.1         444 non-null    uint8  \n",
      " 48  os_Android Nougat 7.1.1       444 non-null    uint8  \n",
      " 49  os_Android Nougat 7.1.2       444 non-null    uint8  \n",
      " 50  os_Android Oreo 8             444 non-null    uint8  \n",
      " 51  os_Android Oreo 8.1           444 non-null    uint8  \n",
      " 52  os_Android Pie 9              444 non-null    uint8  \n",
      " 53  num_cores_Quad Core           444 non-null    uint8  \n",
      " 54  network_top_4G                444 non-null    uint8  \n",
      " 55  network_top_4G VOLTE          444 non-null    uint8  \n",
      " 56  network_top_5G                444 non-null    uint8  \n",
      " 57  mobile_price                  444 non-null    int64  \n",
      "dtypes: float64(10), int64(8), uint8(40)\n",
      "memory usage: 83.2 KB\n"
     ]
    }
   ],
   "source": [
    "mobile.info()"
   ]
  },
  {
   "cell_type": "code",
   "execution_count": 13,
   "id": "1f060a52",
   "metadata": {},
   "outputs": [],
   "source": [
    "mobile.to_csv(\"mobile_data_final.csv\", index=False)"
   ]
  },
  {
   "cell_type": "code",
   "execution_count": null,
   "id": "250fdb4f",
   "metadata": {},
   "outputs": [],
   "source": []
  }
 ],
 "metadata": {
  "kernelspec": {
   "display_name": "Python 3 (ipykernel)",
   "language": "python",
   "name": "python3"
  },
  "language_info": {
   "codemirror_mode": {
    "name": "ipython",
    "version": 3
   },
   "file_extension": ".py",
   "mimetype": "text/x-python",
   "name": "python",
   "nbconvert_exporter": "python",
   "pygments_lexer": "ipython3",
   "version": "3.9.7"
  }
 },
 "nbformat": 4,
 "nbformat_minor": 5
}
